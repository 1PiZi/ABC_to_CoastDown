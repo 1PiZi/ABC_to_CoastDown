{
 "cells": [
  {
   "cell_type": "code",
   "execution_count": 1,
   "metadata": {},
   "outputs": [],
   "source": [
    "import numpy as np\n",
    "import matplotlib.pyplot as plt\n",
    "import pandas as pd\n",
    "import os"
   ]
  },
  {
   "cell_type": "code",
   "execution_count": 37,
   "metadata": {},
   "outputs": [],
   "source": [
    "# USER INPUTS\n",
    "A = 66.7838524360216 #lbf\n",
    "B = 0.450065235440471 #lbf/mph\n",
    "C = 0.0475958369438377 #lbf/mph^2\n",
    "Mass = 9350 #lb\n",
    "\n",
    "# Do not recommend changing this:\n",
    "Initial_Speed = 78; #mph\n",
    "Time = 100; #Enough time to vehicle stabilize at 78mph\n",
    "velocity_list = [Initial_Speed]\n",
    "time_vector = [Time]"
   ]
  },
  {
   "cell_type": "code",
   "execution_count": 38,
   "metadata": {},
   "outputs": [],
   "source": [
    "# Applying Newton's Second Law to convert the Force(lbf) x Velocity(mph) plot (given by the ABCs) to Acceleration(ft/s^2) x Velocity(mph) plot.\n",
    "# This function will iterate once for each mission second. The initial speed is not a fixed value, there's a new one being calculated every second.\n",
    "def decel_iteration(Initial_Speed,A,B,C):\n",
    "    newA = A/Mass; # F = M*A ---> F/M = A  \n",
    "    newB = B/Mass;\n",
    "    newC = C/Mass; # newABCs are correlated to the acceleration plot, not dissipative forces plot.\n",
    "    decel_value = newC*Initial_Speed**2 + newB*Initial_Speed + newA #calculating the acceleration(ft/s^2) correlated to the given speed(mph)\n",
    "    new_Speed = Initial_Speed - (decel_value*32.174*0.681818) #converting the acceleration from (ft/s^2) to (mph/s) and then subtracting it from the initial speed.\n",
    "    return(new_Speed)"
   ]
  },
  {
   "cell_type": "code",
   "execution_count": 39,
   "metadata": {},
   "outputs": [],
   "source": [
    "Time = Time + 1 # First iteration. \n",
    "new_Speed = decel_iteration(Initial_Speed,A,B,C) #Calling the deceleration function.\n",
    "velocity_list.append(new_Speed) #Saving results into a list.\n",
    "time_vector.append(Time)\n",
    "while new_Speed>=0: # Iterating until the vehicle stops.\n",
    "    Time = Time + 1\n",
    "    new_Speed = decel_iteration(new_Speed,A,B,C)\n",
    "    velocity_list.append(new_Speed)\n",
    "    time_vector.append(Time)"
   ]
  },
  {
   "cell_type": "code",
   "execution_count": 40,
   "metadata": {},
   "outputs": [
    {
     "data": {
      "image/png": "[encoded data removed]",
      "text/plain": [
       "<Figure size 432x288 with 1 Axes>"
      ]
     },
     "metadata": {
      "needs_background": "light"
     },
     "output_type": "display_data"
    }
   ],
   "source": [
    "plt.plot(time_vector,velocity_list);plt.xlabel('Time, seconds');plt.ylabel('Speed, mph');plt.grid(1)"
   ]
  },
  {
   "cell_type": "code",
   "execution_count": 41,
   "metadata": {},
   "outputs": [
    {
     "data": {
      "text/html": [
       "<div>\n",
       "<style scoped>\n",
       "    .dataframe tbody tr th:only-of-type {\n",
       "        vertical-align: middle;\n",
       "    }\n",
       "\n",
       "    .dataframe tbody tr th {\n",
       "        vertical-align: top;\n",
       "    }\n",
       "\n",
       "    .dataframe thead th {\n",
       "        text-align: right;\n",
       "    }\n",
       "</style>\n",
       "<table border=\"1\" class=\"dataframe\">\n",
       "  <thead>\n",
       "    <tr style=\"text-align: right;\">\n",
       "      <th></th>\n",
       "      <th>Time(sec)</th>\n",
       "      <th>Speed(mph)</th>\n",
       "    </tr>\n",
       "  </thead>\n",
       "  <tbody>\n",
       "    <tr>\n",
       "      <th>0</th>\n",
       "      <td>100</td>\n",
       "      <td>78.000000</td>\n",
       "    </tr>\n",
       "    <tr>\n",
       "      <th>1</th>\n",
       "      <td>101</td>\n",
       "      <td>77.081558</td>\n",
       "    </tr>\n",
       "    <tr>\n",
       "      <th>2</th>\n",
       "      <td>102</td>\n",
       "      <td>76.179992</td>\n",
       "    </tr>\n",
       "    <tr>\n",
       "      <th>3</th>\n",
       "      <td>103</td>\n",
       "      <td>75.294807</td>\n",
       "    </tr>\n",
       "    <tr>\n",
       "      <th>4</th>\n",
       "      <td>104</td>\n",
       "      <td>74.425530</td>\n",
       "    </tr>\n",
       "    <tr>\n",
       "      <th>...</th>\n",
       "      <td>...</td>\n",
       "      <td>...</td>\n",
       "    </tr>\n",
       "    <tr>\n",
       "      <th>242</th>\n",
       "      <td>342</td>\n",
       "      <td>0.538164</td>\n",
       "    </tr>\n",
       "    <tr>\n",
       "      <th>243</th>\n",
       "      <td>343</td>\n",
       "      <td>0.380877</td>\n",
       "    </tr>\n",
       "    <tr>\n",
       "      <th>244</th>\n",
       "      <td>344</td>\n",
       "      <td>0.223771</td>\n",
       "    </tr>\n",
       "    <tr>\n",
       "      <th>245</th>\n",
       "      <td>345</td>\n",
       "      <td>0.066842</td>\n",
       "    </tr>\n",
       "    <tr>\n",
       "      <th>246</th>\n",
       "      <td>346</td>\n",
       "      <td>-0.089916</td>\n",
       "    </tr>\n",
       "  </tbody>\n",
       "</table>\n",
       "<p>247 rows × 2 columns</p>\n",
       "</div>"
      ],
      "text/plain": [
       "     Time(sec)  Speed(mph)\n",
       "0          100   78.000000\n",
       "1          101   77.081558\n",
       "2          102   76.179992\n",
       "3          103   75.294807\n",
       "4          104   74.425530\n",
       "..         ...         ...\n",
       "242        342    0.538164\n",
       "243        343    0.380877\n",
       "244        344    0.223771\n",
       "245        345    0.066842\n",
       "246        346   -0.089916\n",
       "\n",
       "[247 rows x 2 columns]"
      ]
     },
     "execution_count": 41,
     "metadata": {},
     "output_type": "execute_result"
    }
   ],
   "source": [
    "coastdown_profile = pd.DataFrame(list(zip(time_vector, velocity_list)), columns =['Time(sec)', 'Speed(mph)'])\n",
    "coastdown_profile"
   ]
  },
  {
   "cell_type": "code",
   "execution_count": 43,
   "metadata": {},
   "outputs": [
    {
     "data": {
      "text/plain": [
       "'c:\\\\SIM\\\\CoastdownReversal/mss_profile.xlsx'"
      ]
     },
     "execution_count": 43,
     "metadata": {},
     "output_type": "execute_result"
    }
   ],
   "source": [
    "#exporting mission profile to excel file\n",
    "cwd = os.getcwd()\n",
    "file_path = cwd + '/mss_profile.xlsx'\n",
    "coastdown_profile.to_excel(file_path, index = False)\n",
    "file_path"
   ]
  },
  {
   "cell_type": "code",
   "execution_count": null,
   "metadata": {},
   "outputs": [],
   "source": []
  }
 ],
 "metadata": {
  "kernelspec": {
   "display_name": "Python 3.10.6 64-bit (windows store)",
   "language": "python",
   "name": "python3"
  },
  "language_info": {
   "codemirror_mode": {
    "name": "ipython",
    "version": 3
   },
   "file_extension": ".py",
   "mimetype": "text/x-python",
   "name": "python",
   "nbconvert_exporter": "python",
   "pygments_lexer": "ipython3",
   "version": "3.10.6"
  },
  "orig_nbformat": 4,
  "vscode": {
   "interpreter": {
    "hash": "3b7e9cb8e453d6cda0fe8c8dd13f891a1f09162f0e7c66ffeae7751a7aecf00d"
   }
  }
 },
 "nbformat": 4,
 "nbformat_minor": 2
}
